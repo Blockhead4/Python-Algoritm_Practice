{
 "cells": [
  {
   "cell_type": "markdown",
   "metadata": {},
   "source": [
    "# 6. 3-3. TapeEquilibrium\n",
    "A non-empty zero-indexed array A consisting of N integers is given.\n",
    "Array A represents numbers on a tape.\n",
    "Any integer P, such that 0 < P < N,\n",
    "splits this tape into two non-empty parts: A[0], A[1], ..., A[P − 1] and A[P], A[P + 1], ..., A[N − 1].\n",
    "The difference between the two parts is the value of: |(A[0] + A[1] + ... + A[P − 1]) − (A[P] + A[P + 1] + ... + A[N − 1])|\n",
    "In other words, it is the absolute difference between\n",
    "the sum of the first part and the sum of the second part.\n",
    "\n",
    "For example, consider array A such that:\n",
    "\n",
    "  A[0] = 3\n",
    "  A[1] = 1\n",
    "  A[2] = 2\n",
    "  A[3] = 4\n",
    "  A[4] = 3\n",
    "\n",
    "We can split this tape in four places:\n",
    "\n",
    "P = 1, difference = |3 − 10| = 7\n",
    "P = 2, difference = |4 − 9| = 5\n",
    "P = 3, difference = |6 − 7| = 1\n",
    "P = 4, difference = |10 − 3| = 7\n",
    "\n",
    "Write a function: def solution(A)\n",
    "that, given a non-empty zero-indexed array A of N integers, returns the minimal difference that can be achieved.\n",
    "For example, given:\n",
    "\n",
    "  A[0] = 3\n",
    "  A[1] = 1\n",
    "  A[2] = 2\n",
    "  A[3] = 4\n",
    "  A[4] = 3\n",
    "\n",
    "the function should return 1, as explained above.\n",
    "\n",
    "Assume that:\n",
    "N is an integer within the range [2..100,000];\n",
    "each element of array A is an integer within the range [−1,000..1,000].\n",
    "Complexity:\n",
    "\n",
    "expected worst-case time complexity is O(N);\n",
    "expected worst-case space complexity is O(N),\n",
    "beyond input storage (not counting the storage required for input arguments)."
   ]
  },
  {
   "cell_type": "code",
   "execution_count": 28,
   "metadata": {},
   "outputs": [
    {
     "data": {
      "text/plain": [
       "1"
      ]
     },
     "execution_count": 28,
     "metadata": {},
     "output_type": "execute_result"
    }
   ],
   "source": [
    "def tape(a):\n",
    "    return min([abs(sum(a[:i]) - sum(a[i:])) for i in range(1, len(a)-1)])\n",
    "\n",
    "a = [3, 1, 2, 4, 3]\n",
    "tape(a)"
   ]
  },
  {
   "cell_type": "code",
   "execution_count": 44,
   "metadata": {},
   "outputs": [
    {
     "data": {
      "text/plain": [
       "1"
      ]
     },
     "execution_count": 44,
     "metadata": {},
     "output_type": "execute_result"
    }
   ],
   "source": [
    "def tape2(a):\n",
    "    sum1 = 0\n",
    "    sum2 = sum(a)\n",
    "    mind = None   \n",
    "\n",
    "    for i in range(1, len(a)):\n",
    "        sum1 += a[i-1]\n",
    "        sum2 -= a[i-1]\n",
    "        diff = abs(sum1 - sum2)\n",
    "\n",
    "        if not mind:\n",
    "            mind = diff\n",
    "        else:\n",
    "            mind = min(mind, diff)\n",
    "\n",
    "    return mind\n",
    "\n",
    "tape(a)"
   ]
  },
  {
   "cell_type": "markdown",
   "metadata": {},
   "source": [
    "# 7. 4-2. Perm Check\n",
    "A non-empty zero-indexed array A consisting of N integers is given.\n",
    "A permutation is a sequence containing each element from 1 to N once, and only once.\n",
    "For example, array A such that:\n",
    "\n",
    "    A[0] = 4\n",
    "    A[1] = 1\n",
    "    A[2] = 3\n",
    "    A[3] = 2\n",
    "is a permutation, but array A such that:\n",
    "\n",
    "    A[0] = 4\n",
    "    A[1] = 1\n",
    "    A[2] = 3\n",
    "is not a permutation, because value 2 is missing.\n",
    "The goal is to check whether array A is a permutation.\n",
    "\n",
    "Write a function:\n",
    "def solution(A)\n",
    "\n",
    "that, given a zero-indexed array A, returns 1 if array A is a permutation and 0 if it is not.\n",
    "For example, given array A such that:\n",
    "\n",
    "    A[0] = 4\n",
    "    A[1] = 1\n",
    "    A[2] = 3\n",
    "    A[3] = 2\n",
    "the function should return 1.\n",
    "Given array A such that:\n",
    "\n",
    "    A[0] = 4\n",
    "    A[1] = 1\n",
    "    A[2] = 3\n",
    "the function should return 0.\n",
    "Assume that:\n",
    "\n",
    "N is an integer within the range [1..100,000];\n",
    "each element of array A is an integer within the range [1..1,000,000,000].\n",
    "Complexity:\n",
    "\n",
    "expected worst-case time complexity is O(N);\n",
    "expected worst-case space complexity is O(N), beyond input storage\n",
    "(not counting the storage required for input arguments)."
   ]
  },
  {
   "cell_type": "code",
   "execution_count": 389,
   "metadata": {},
   "outputs": [],
   "source": [
    "a = [4, 1, 2, 3]"
   ]
  },
  {
   "cell_type": "code",
   "execution_count": 390,
   "metadata": {},
   "outputs": [
    {
     "data": {
      "text/plain": [
       "1"
      ]
     },
     "execution_count": 390,
     "metadata": {},
     "output_type": "execute_result"
    }
   ],
   "source": [
    "def permCheck(a):\n",
    "    return 1 if max(a) == len(a) else 0\n",
    "\n",
    "permCheck(a)"
   ]
  },
  {
   "cell_type": "code",
   "execution_count": 391,
   "metadata": {},
   "outputs": [
    {
     "data": {
      "text/plain": [
       "1"
      ]
     },
     "execution_count": 391,
     "metadata": {},
     "output_type": "execute_result"
    }
   ],
   "source": [
    "def permCheck2(a): \n",
    "    xorSum = 0\n",
    "    for i in range(1, len(a)+1):\n",
    "        xorSum ^= i^a[i-1]\n",
    "    \n",
    "    if not s:\n",
    "        return 1\n",
    "    return 0\n",
    "\n",
    "permCheck(a)"
   ]
  },
  {
   "cell_type": "markdown",
   "metadata": {},
   "source": [
    "# 8. 4-1. FrogRiverOne\n",
    "A small frog wants to get to the other side of a river. The frog is initially located on one bank of the river (position 0) and wants to get to the opposite bank (position X+1). Leaves fall from a tree onto the surface of the river.\n",
    "\n",
    "You are given a zero-indexed array A consisting of N integers representing the falling leaves. A[K] represents the position where one leaf falls at time K, measured in seconds.\n",
    "\n",
    "The goal is to find the earliest time when the frog can jump to the other side of the river. The frog can cross only when leaves appear at every position across the river from 1 to X (that is, we want to find the earliest moment when all the positions from 1 to X are covered by leaves). You may assume that the speed of the current in the river is negligibly small, i.e. the leaves do not change their positions once they fall in the river.\n",
    "\n",
    "For example, you are given integer X = 5 and array A such that:\n",
    "\n",
    "  A[0] = 1\n",
    "  A[1] = 3\n",
    "  A[2] = 1\n",
    "  A[3] = 4\n",
    "  A[4] = 2\n",
    "  A[5] = 3\n",
    "  A[6] = 5\n",
    "  A[7] = 4\n",
    "In second 6, a leaf falls into position 5. This is the earliest time when leaves appear in every position across the river.\n",
    "\n",
    "Write a function:\n",
    "\n",
    "def solution(X, A)\n",
    "that, given a non-empty zero-indexed array A consisting of N integers and integer X, returns the earliest time when the frog can jump to the other side of the river.\n",
    "\n",
    "If the frog is never able to jump to the other side of the river, the function should return −1.\n",
    "\n",
    "For example, given X = 5 and array A such that:\n",
    "\n",
    "  A[0] = 1\n",
    "  A[1] = 3\n",
    "  A[2] = 1\n",
    "  A[3] = 4\n",
    "  A[4] = 2\n",
    "  A[5] = 3\n",
    "  A[6] = 5\n",
    "  A[7] = 4\n",
    "the function should return 6, as explained above.\n",
    "\n",
    "Assume that:\n",
    "\n",
    "N and X are integers within the range [1..100,000];\n",
    "each element of array A is an integer within the range [1..X].\n",
    "Complexity:\n",
    "\n",
    "expected worst-case time complexity is O(N);\n",
    "expected worst-case space complexity is O(X), beyond input storage (not counting the storage required for input arguments).\n"
   ]
  },
  {
   "cell_type": "code",
   "execution_count": 392,
   "metadata": {},
   "outputs": [],
   "source": [
    "x = 5\n",
    "a = [1, 3, 1, 4, 2, 3, 4, 5]"
   ]
  },
  {
   "cell_type": "code",
   "execution_count": 393,
   "metadata": {},
   "outputs": [
    {
     "data": {
      "text/plain": [
       "7"
      ]
     },
     "execution_count": 393,
     "metadata": {},
     "output_type": "execute_result"
    }
   ],
   "source": [
    "def frogRiverOne(x, a):\n",
    "    dis = list(range(1, x+1))\n",
    "    for i, v in enumerate(a):\n",
    "        dis[v-1] -= v\n",
    "        if not max(dis):\n",
    "            return i\n",
    "    return -1\n",
    "\n",
    "frogRiverOne(x,a)"
   ]
  },
  {
   "cell_type": "code",
   "execution_count": 394,
   "metadata": {},
   "outputs": [
    {
     "data": {
      "text/plain": [
       "7"
      ]
     },
     "execution_count": 394,
     "metadata": {},
     "output_type": "execute_result"
    }
   ],
   "source": [
    "def frogRiverOne2(X, A):\n",
    "    check = [0] * X\n",
    "    check_sum = 0\n",
    "    for i in range(len(A)):\n",
    "        if check[A[i]-1] == 0:\n",
    "            check[A[i]-1] = 1\n",
    "            check_sum += 1\n",
    "            if check_sum == X:\n",
    "                return i\n",
    "    return -1\n",
    "\n",
    "frogRiverOne2(x, a)"
   ]
  },
  {
   "cell_type": "markdown",
   "metadata": {},
   "source": [
    "# 9. 10-2. CountFactors\n",
    "A positive integer D is a factor of a positive integer N if there exists an integer M such that N = D * M. For example, 6 is a factor of 24, because M = 4 satisfies the above condition (24 = 6 * 4).\n",
    "\n",
    "Write a function: def solution(N) that, given a positive integer N, returns the number of its factors. For example, given N = 24, the function should return 8, because 24 has 8 factors, namely 1, 2, 3, 4, 6, 8, 12, 24. There are no other factors of 24.\n",
    "\n",
    "Assume that: N is an integer within the range [1..2,147,483,647]. Complexity: expected worst-case time complexity is O(sqrt(N)); expected worst-case space complexity is O(1)."
   ]
  },
  {
   "cell_type": "code",
   "execution_count": 429,
   "metadata": {},
   "outputs": [],
   "source": [
    "n = 24"
   ]
  },
  {
   "cell_type": "code",
   "execution_count": 432,
   "metadata": {},
   "outputs": [],
   "source": [
    "def countFactors(n):\n",
    "    i = 1\n",
    "    result = 0\n",
    "    while i*i <= n:    \n",
    "        if i*i == n:\n",
    "            result += 1\n",
    "        elif not n % i:\n",
    "            result += 2\n",
    "        i += 1\n",
    "    return result"
   ]
  },
  {
   "cell_type": "code",
   "execution_count": 433,
   "metadata": {},
   "outputs": [
    {
     "data": {
      "text/plain": [
       "8"
      ]
     },
     "execution_count": 433,
     "metadata": {},
     "output_type": "execute_result"
    }
   ],
   "source": [
    "countFactors(n)"
   ]
  },
  {
   "cell_type": "markdown",
   "metadata": {},
   "source": [
    "# 10. 5-2. PassingCars\n",
    "A non-empty zero-indexed array A consisting of N integers is given.\n",
    "The consecutive elements of array A represent consecutive cars on a road.\n",
    "\n",
    "Array A contains only 0s and/or 1s:\n",
    "\n",
    "0 represents a car traveling east,\n",
    "1 represents a car traveling west.\n",
    "The goal is to count passing cars.\n",
    "We say that a pair of cars (P, Q), where 0 ≤ P < Q < N, is passing when P is traveling to the east and Q is traveling to the west.\n",
    "\n",
    "For example, consider array A such that:\n",
    "\n",
    "  A[0] = 0\n",
    "  A[1] = 1\n",
    "  A[2] = 0\n",
    "  A[3] = 1\n",
    "  A[4] = 1\n",
    "We have five pairs of passing cars: (0, 1), (0, 3), (0, 4), (2, 3), (2, 4).\n",
    "\n",
    "Write a function:\n",
    "\n",
    "def solution(A)\n",
    "\n",
    "that, given a non-empty zero-indexed array A of N integers,\n",
    "returns the number of pairs of passing cars.\n",
    "\n",
    "The function should return −1 if the number of pairs of passing cars exceeds 1,000,000,000.\n",
    "\n",
    "For example, given:\n",
    "\n",
    "  A[0] = 0\n",
    "  A[1] = 1\n",
    "  A[2] = 0\n",
    "  A[3] = 1\n",
    "  A[4] = 1\n",
    "the function should return 5, as explained above.\n",
    "\n",
    "Assume that:\n",
    "\n",
    "N is an integer within the range [1..100,000];\n",
    "each element of array A is an integer that can have one of the following values: 0, 1.\n",
    "Complexity:\n",
    "\n",
    "expected worst-case time complexity is O(N);\n",
    "expected worst-case space complexity is O(1),\n",
    "beyond input storage (not counting the storage required for input arguments)."
   ]
  },
  {
   "cell_type": "markdown",
   "metadata": {},
   "source": [
    "N 개의 정수로 구성된 비어 있지 않은 제로 색인 배열 A가 주어진다.\n",
    "배열 A의 연속 요소는 도로상의 연속적인 자동차를 나타냅니다.\n",
    "\n",
    "배열 A는 0 및 / 또는 1 만 포함합니다.\n",
    "\n",
    "0은 동쪽으로 주행하는 자동차를 나타내며,\n",
    "1은 서쪽으로 여행하는 자동차를 나타냅니다.\n",
    "목표는 지나가는 차량 수를 세는 것입니다.\n",
    "P가 동쪽으로 가고 Q가 서쪽으로 여행 할 때 0 ≤ P <Q <N 인 한 쌍의 자동차 (P, Q)가 지나가고 있다고합니다.\n",
    "\n",
    "예를 들어, 배열 A를 다음과 같이 고려하십시오.\n",
    "\n",
    "  A [0] = 0\n",
    "  A [1] = 1\n",
    "  A [2] = 0\n",
    "  A [3] = 1\n",
    "  A [4] = 1\n",
    "우리는 (0, 1), (0, 3), (0, 4), (2, 3), (2, 4)의 다섯 쌍의 지나가는 자동차를 가지고 있습니다.\n",
    "\n",
    "함수를 작성하십시오.\n",
    "\n",
    "디프 용액 (A)\n",
    "\n",
    "N 개의 정수 중 비어 있지 않은 제로 색인 된 배열 A가 주어진다면,\n",
    "지나가는 자동차 쌍의 수를 반환합니다.\n",
    "\n",
    "패싱 카의 쌍 수가 1,000,000,000을 초과하면이 함수는 -1을 반환해야합니다.\n",
    "\n",
    "예를 들어, 주어진 :\n",
    "\n",
    "  A [0] = 0\n",
    "  A [1] = 1\n",
    "  A [2] = 0\n",
    "  A [3] = 1\n",
    "  A [4] = 1\n",
    "함수는 위에서 설명한대로 5를 반환해야합니다.\n",
    "\n",
    "가정하자면 :\n",
    "\n",
    "N은 [1..100,000] 범위의 정수입니다.\n",
    "배열 A의 각 요소는 0, 1 중 하나의 값을 가질 수있는 정수입니다.\n",
    "복잡성:\n",
    "\n",
    "기대 최악의 경우의 시간 복잡도는 O (N)이다.\n",
    "예상 최악의 공간 복잡도는 O (1)이며,\n",
    "입력 저장소 이상 (입력 인수에 필요한 저장소를 계산하지 않음)"
   ]
  },
  {
   "cell_type": "code",
   "execution_count": 3,
   "metadata": {},
   "outputs": [],
   "source": [
    "a = [0, 1, 0, 1, 1]\n",
    "def passingCars(a):\n",
    "    c = 0\n",
    "    result = 0\n",
    "    while a:\n",
    "        if a.pop() == 1:\n",
    "            c += 1\n",
    "        else:\n",
    "            result += c\n",
    "        if result > 1000000000:\n",
    "            return -1\n",
    "    return result"
   ]
  },
  {
   "cell_type": "code",
   "execution_count": 4,
   "metadata": {},
   "outputs": [
    {
     "data": {
      "text/plain": [
       "5"
      ]
     },
     "execution_count": 4,
     "metadata": {},
     "output_type": "execute_result"
    }
   ],
   "source": [
    "passingCars(a)"
   ]
  }
 ],
 "metadata": {
  "kernelspec": {
   "display_name": "Python 3",
   "language": "python",
   "name": "python3"
  },
  "language_info": {
   "codemirror_mode": {
    "name": "ipython",
    "version": 3
   },
   "file_extension": ".py",
   "mimetype": "text/x-python",
   "name": "python",
   "nbconvert_exporter": "python",
   "pygments_lexer": "ipython3",
   "version": "3.7.3"
  }
 },
 "nbformat": 4,
 "nbformat_minor": 2
}
