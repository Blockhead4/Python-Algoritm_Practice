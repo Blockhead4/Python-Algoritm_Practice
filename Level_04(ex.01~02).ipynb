{
 "cells": [
  {
   "cell_type": "markdown",
   "metadata": {},
   "source": [
    "# 1. 숫자의 표현\n",
    "수학을 공부하던 민지는 재미있는 사실을 발견하였습니다. 그 사실은 바로 연속된 자연수의 합으로 어떤 숫자를 표현하는 방법이 여러 가지라는 것입니다. 예를 들어, 15를 표현하는 방법은 (1+2+3+4+5) (4+5+6) (7+8) (15) 로 총 4가지가 존재합니다. 숫자를 입력받아 연속된 수로 표현하는 방법을 반환하는 expressions 함수를 만들어 민지를 도와주세요. 예를 들어 15가 입력된다면 4를 반환해 주면 됩니다."
   ]
  },
  {
   "cell_type": "code",
   "execution_count": 1,
   "metadata": {},
   "outputs": [
    {
     "data": {
      "text/plain": [
       "4"
      ]
     },
     "execution_count": 1,
     "metadata": {},
     "output_type": "execute_result"
    }
   ],
   "source": [
    "def expressions(n):\n",
    "    c = 1\n",
    "    for i in range(1, round(n/2)):\n",
    "        ex_sum = i\n",
    "        for j in range(i+1, round(n/2)+1):\n",
    "            ex_sum += j\n",
    "            if ex_sum == n:\n",
    "                c += 1\n",
    "    return c\n",
    "\n",
    "n = 15\n",
    "expressions(n)"
   ]
  },
  {
   "cell_type": "markdown",
   "metadata": {},
   "source": [
    "# 2. 최고의 집합\n",
    "자연수 N개로 이루어진 집합 중에, 각 원소의 합이 S가 되는 수의 집합은 여러 가지가 존재합니다.\n",
    "최고의 집합은, 위의 조건을 만족하는 집합 중 각 원소의 곱이 최대가 되는 집합을 의미합니다.\n",
    "\n",
    "집합 원소의 개수 n과 원소들의 합 s가 주어지면,\n",
    "최고의 집합을 찾아 원소를 오름차순으로 반환해주는 bestSet 함수를 만들어 보세요.\n",
    "만약 조건을 만족하는 집합이 없을 때는 배열 맨 앞에 –1을 담아 반환하면 됩니다.\n",
    "예를 들어 n=3, s=13이면 [4,4,5]가 반환됩니다.\n",
    "(자바는 집합이 없는 경우 크기가 1인 배열에 -1을 담아 반환해주세요.)\n"
   ]
  },
  {
   "cell_type": "code",
   "execution_count": 134,
   "metadata": {},
   "outputs": [
    {
     "data": {
      "text/plain": [
       "[5, 6, 6]"
      ]
     },
     "execution_count": 134,
     "metadata": {},
     "output_type": "execute_result"
    }
   ],
   "source": [
    "def bestSet(n, s):\n",
    "    if n > s or n == 0:\n",
    "        return [-1]\n",
    "    bs = list(map(int, [str(int(s/n))]*n))\n",
    "    bs[-s%n:] = list(map(lambda x:x+1, bs[-s%n:])) if s%n != 0 else bs\n",
    "    return bs\n",
    "\n",
    "n=3\n",
    "s=17\n",
    "bestSet(n, s)"
   ]
  },
  {
   "cell_type": "code",
   "execution_count": 17,
   "metadata": {},
   "outputs": [
    {
     "data": {
      "text/plain": [
       "[10312, 10312, 10312, 10312, 10312, 10312, 10313, 10313, 10313, 10313]"
      ]
     },
     "execution_count": 17,
     "metadata": {},
     "output_type": "execute_result"
    }
   ],
   "source": [
    "def bestSet2(n, s):\n",
    "    if n > s:\n",
    "        return [-1]\n",
    "    portion, remainder = divmod(s, n)\n",
    "    li = [portion] * n\n",
    "    while remainder > 0:\n",
    "        li[li.index(min(li))] += 1\n",
    "        remainder -= 1\n",
    "\n",
    "    return sorted(li)\n",
    "\n",
    "bestSet2(n, s)"
   ]
  }
 ],
 "metadata": {
  "kernelspec": {
   "display_name": "Python 3",
   "language": "python",
   "name": "python3"
  },
  "language_info": {
   "codemirror_mode": {
    "name": "ipython",
    "version": 3
   },
   "file_extension": ".py",
   "mimetype": "text/x-python",
   "name": "python",
   "nbconvert_exporter": "python",
   "pygments_lexer": "ipython3",
   "version": "3.7.3"
  }
 },
 "nbformat": 4,
 "nbformat_minor": 2
}
