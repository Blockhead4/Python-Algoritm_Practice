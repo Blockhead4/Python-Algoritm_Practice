{
 "cells": [
  {
   "cell_type": "markdown",
   "metadata": {},
   "source": [
    "# 6. 두 정수 사이의 합\n",
    "adder함수는 정수 a, b를 매개변수로 입력받습니다. 두 수와 두 수 사이에 있는 모든 정수를 더해서 리턴하도록 함수를 완성하세요. a와 b가 같은 경우는 둘 중 아무 수나 리턴하세요. 예를들어 a가 3, b가 5이면 12를 리턴하면 됩니다.\n",
    "a, b는 음수나 0, 양수일 수 있으며 둘의 대소 관계도 정해져 있지 않습니다."
   ]
  },
  {
   "cell_type": "code",
   "execution_count": 14,
   "metadata": {},
   "outputs": [
    {
     "data": {
      "text/plain": [
       "27"
      ]
     },
     "execution_count": 14,
     "metadata": {},
     "output_type": "execute_result"
    }
   ],
   "source": [
    "def adder(a, b):\n",
    "    if a > b: a,b = b,a\n",
    "    return sum(list(range(a, b+1)))\n",
    "\n",
    "a = 8\n",
    "b = 10\n",
    "adder(a, b)"
   ]
  },
  {
   "cell_type": "markdown",
   "metadata": {},
   "source": [
    "# 7. 콜라츠 추측\n",
    "1937년 Collatz란 사람에 의해 제기된 이 추측은, 입력된 수가 짝수라면 2로 나누고, 홀수라면 3을 곱하고 1을 더한 다음, 결과로 나온 수에 같은 작업을 1이 될 때까지 반복할 경우 모든 수가 1이 된다는 추측입니다. 예를 들어, 입력된 수가 6이라면 6→3→10→5→16→8→4→2→1 이 되어 총 8번 만에 1이 됩니다. collatz 함수를 만들어 입력된 수가 몇 번 만에 1이 되는지 반환해 주세요. 단, 500번을 반복해도 1이 되지 않는다면 –1을 반환해 주세요."
   ]
  },
  {
   "cell_type": "code",
   "execution_count": 31,
   "metadata": {},
   "outputs": [
    {
     "data": {
      "text/plain": [
       "8"
      ]
     },
     "execution_count": 31,
     "metadata": {},
     "output_type": "execute_result"
    }
   ],
   "source": [
    "def collatz(n):\n",
    "    c = 0\n",
    "    while n != 1:\n",
    "        n =  n*3+1 if n % 2 else n/2\n",
    "        c += 1\n",
    "    return c if c < 500 else -1\n",
    "\n",
    "n = 6\n",
    "collatz(n)"
   ]
  },
  {
   "cell_type": "code",
   "execution_count": 43,
   "metadata": {},
   "outputs": [
    {
     "data": {
      "text/plain": [
       "8"
      ]
     },
     "execution_count": 43,
     "metadata": {},
     "output_type": "execute_result"
    }
   ],
   "source": [
    "def collatz2(n):\n",
    "    for i in range(500):\n",
    "        n =  n*3+1 if n % 2 else n/2\n",
    "        if n == 1:\n",
    "            return i+1\n",
    "    return -1\n",
    "collatz2(6)"
   ]
  },
  {
   "cell_type": "markdown",
   "metadata": {},
   "source": [
    "# 8. 소수 찾기\n",
    "numberOfPrime 메소드는 정수 n을 매개변수로 입력받습니다.\n",
    "1부터 입력받은 숫자 n 사이에 있는 소수의 개수를 반환하도록 numberOfPrime 메소드를 만들어 보세요.\n",
    "소수는 1과 자기 자신으로만 나누어지는 수를 의미합니다. (1은 소수가 아닙니다.)\n",
    "10을 입력받았다면, 1부터 10 사이의 소수는 [2,3,5,7] 4개가 존재하므로 4를 반환 5를 입력받았다면, 1부터 5 사이의 소수는 [2,3,5] 3개가 존재하므로 3를 반환"
   ]
  },
  {
   "cell_type": "code",
   "execution_count": 1,
   "metadata": {},
   "outputs": [
    {
     "data": {
      "text/plain": [
       "4"
      ]
     },
     "execution_count": 1,
     "metadata": {},
     "output_type": "execute_result"
    }
   ],
   "source": [
    "def numverOfPrime(n):\n",
    "    Prime_n = 0\n",
    "    for i in range(2, n+1):\n",
    "        check = 0\n",
    "        for j in range(2, i+1):\n",
    "            if not i % j:\n",
    "                check += 1\n",
    "        if check == 1:\n",
    "            Prime_n += 1\n",
    "    return Prime_n\n",
    "\n",
    "numverOfPrime(7)"
   ]
  },
  {
   "cell_type": "markdown",
   "metadata": {},
   "source": [
    "# 9. 괄호 확인하기\n",
    "is_pair함수는 문자열 s를 매개변수로 입력받습니다. s에 괄호가 알맞게 짝지어져 있으면 True를 아니면 False를 리턴하는 함수를 완성하세요. 예를들어 s가 “(hello)()”면 True이고, “)(“이면 False입니다. s가 빈 문자열(““)인 경우는 없습니다."
   ]
  },
  {
   "cell_type": "code",
   "execution_count": 7,
   "metadata": {},
   "outputs": [
    {
     "data": {
      "text/plain": [
       "False"
      ]
     },
     "execution_count": 7,
     "metadata": {},
     "output_type": "execute_result"
    }
   ],
   "source": [
    "def is_pair(s):\n",
    "    stack = []\n",
    "    for ch in s:\n",
    "        if ch == '(':\n",
    "            stack.append(ch)\n",
    "        elif ch == ')':\n",
    "            try:\n",
    "                stack.pop()\n",
    "            except IndexError:\n",
    "                return False\n",
    "    return len(stack) == 0\n",
    "\n",
    "s = '(hello)('\n",
    "is_pair(s)"
   ]
  },
  {
   "cell_type": "markdown",
   "metadata": {},
   "source": [
    "# 10. 가장 긴 팰린드롬\n",
    "앞뒤를 뒤집어도 똑같은 문자열을 palindrome이라고 합니다. longest_palindrom함수는 문자열 s를 매개변수로 입력받습니다. s의 부분문자열중 가장 긴 palindrom의 길이를 리턴하는 함수를 완성하세요. 예를들어 s가 “토마토맛토마토”이면 7을 리턴하고 “토마토맛있어”이면 3을 리턴합니다."
   ]
  },
  {
   "cell_type": "code",
   "execution_count": 90,
   "metadata": {},
   "outputs": [
    {
     "data": {
      "text/plain": [
       "5"
      ]
     },
     "execution_count": 90,
     "metadata": {},
     "output_type": "execute_result"
    }
   ],
   "source": [
    "def longest_palindrom(s):\n",
    "    ch = []\n",
    "    for i in range(len(s)-1):\n",
    "        tmp = s[i]\n",
    "        for v in range(i+1, len(s)):\n",
    "            tmp += s[v]\n",
    "            if tmp == tmp[::-1]:\n",
    "                ch.append(len(tmp))\n",
    "    return max(ch) if len(ch) != 0 else 1\n",
    "\n",
    "s = 'asdftototkjekf'\n",
    "longest_palindrom(s)"
   ]
  },
  {
   "cell_type": "code",
   "execution_count": 71,
   "metadata": {},
   "outputs": [
    {
     "data": {
      "text/plain": [
       "5"
      ]
     },
     "execution_count": 71,
     "metadata": {},
     "output_type": "execute_result"
    }
   ],
   "source": [
    "def longest_palindrom2(s):\n",
    "    list_s = list(s)\n",
    "    if list_s == list_s[::-1]:\n",
    "        return len(list_s)\n",
    "\n",
    "    result = []\n",
    "    for idx, item in enumerate(list_s):\n",
    "        if item in list_s[idx+1:]:\n",
    "            idx2 = list_s[idx+1:].index(item) + idx+2\n",
    "\n",
    "            if list_s[idx:idx2] == (list_s[idx:idx2])[::-1]:\n",
    "                result.append(len(list_s[idx:idx2]))\n",
    "\n",
    "    if len(result) == 0:\n",
    "        return 1\n",
    "    return max(result)\n",
    "\n",
    "longest_palindrom2(s)"
   ]
  }
 ],
 "metadata": {
  "kernelspec": {
   "display_name": "Python 3",
   "language": "python",
   "name": "python3"
  },
  "language_info": {
   "codemirror_mode": {
    "name": "ipython",
    "version": 3
   },
   "file_extension": ".py",
   "mimetype": "text/x-python",
   "name": "python",
   "nbconvert_exporter": "python",
   "pygments_lexer": "ipython3",
   "version": "3.7.3"
  }
 },
 "nbformat": 4,
 "nbformat_minor": 2
}
