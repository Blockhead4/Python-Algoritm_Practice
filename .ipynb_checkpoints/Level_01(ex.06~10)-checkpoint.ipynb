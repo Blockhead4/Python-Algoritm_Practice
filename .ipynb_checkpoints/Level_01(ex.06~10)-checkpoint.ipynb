{
 "cells": [
  {
   "cell_type": "markdown",
   "metadata": {},
   "source": [
    "# 6. x만큼 간격이 있는 n개의 숫자\n",
    "number_generator함수는 x와 n을 입력 받습니다.\n",
    "2와 5를 입력 받으면 2부터 시작해서 2씩 증가하는 숫자를 5개 가지는 리스트를 만들어서 리턴합니다. [2,4,6,8,10]\n",
    "4와 3을 입력 받으면 4부터 시작해서 4씩 증가하는 숫자를 3개 가지는 리스트를 만들어서 리턴합니다. [4,8,12]\n",
    "이를 일반화 하면 x부터 시작해서 x씩 증가하는 숫자를 n개 가지는 리스트를 리턴하도록 함수 number_generator를 완성하면 됩니다."
   ]
  },
  {
   "cell_type": "code",
   "execution_count": 2,
   "metadata": {},
   "outputs": [
    {
     "data": {
      "text/plain": [
       "[4, 8, 12]"
      ]
     },
     "execution_count": 2,
     "metadata": {},
     "output_type": "execute_result"
    }
   ],
   "source": [
    "def number_generator(x, n):\n",
    "    return [x*(i+1) for i in range(n)]\n",
    "\n",
    "number_generator(4,3)"
   ]
  },
  {
   "cell_type": "markdown",
   "metadata": {},
   "source": [
    "# 7. 평균구하기\n",
    "def average(list): 함수를 완성해서 매개변수 list의 평균값을 return하도록 만들어 보세요.\n",
    "어떠한 크기의 list가 와도 평균값을 구할 수 있어야 합니다."
   ]
  },
  {
   "cell_type": "code",
   "execution_count": 9,
   "metadata": {},
   "outputs": [
    {
     "data": {
      "text/plain": [
       "3.0"
      ]
     },
     "execution_count": 9,
     "metadata": {},
     "output_type": "execute_result"
    }
   ],
   "source": [
    "def average(l):\n",
    "    return False if len(l) == 0 else sum(l)/len(l)\n",
    "\n",
    "l = [1,2,3,4,5]\n",
    "average(l)"
   ]
  },
  {
   "cell_type": "markdown",
   "metadata": {},
   "source": [
    "# 8. 제일 작은 수 제거하기\n",
    "rm_small함수는 list타입 변수 mylist을 매개변수로 입력받습니다.\n",
    "mylist 에서 가장 작은 수를 제거한 리스트를 리턴하고, \n",
    "mylist의 원소가 1개 이하인 경우는 []를 리턴하는 함수를 완성하세요. \n",
    "예를들어 mylist가 [4,3,2,1]인 경우는 [4,3,2]를 리턴 하고, [10, 8, 22]면 [10, 22]를 리턴 합니다."
   ]
  },
  {
   "cell_type": "code",
   "execution_count": 63,
   "metadata": {},
   "outputs": [
    {
     "data": {
      "text/plain": [
       "[9, 2]"
      ]
     },
     "execution_count": 63,
     "metadata": {},
     "output_type": "execute_result"
    }
   ],
   "source": [
    "def rm_small(mylist):\n",
    "    return [v for v in mylist if v != min(mylist)]\n",
    "\n",
    "mylist = [1, 9 ,2]\n",
    "rm_small(mylist)"
   ]
  },
  {
   "cell_type": "code",
   "execution_count": 65,
   "metadata": {},
   "outputs": [
    {
     "data": {
      "text/plain": [
       "[9, 2]"
      ]
     },
     "execution_count": 65,
     "metadata": {},
     "output_type": "execute_result"
    }
   ],
   "source": [
    "def rm_small2(mylist):\n",
    "    mylist.remove(min(mylist))\n",
    "    return mylist\n",
    "\n",
    "rm_small(mylist)"
   ]
  },
  {
   "cell_type": "markdown",
   "metadata": {},
   "source": [
    "# 9. 짝수와 홀수\n",
    "evenOrOdd 메소드는 int형 num을 매개변수로 받습니다.\n",
    "num이 짝수일 경우 “Even”을 반환하고 홀수인 경우 “Odd”를 반환하도록 evenOrOdd에 코드를 작성해 보세요.\n",
    "num은 0이상의 정수이며, num이 음수인 경우는 없습니다."
   ]
  },
  {
   "cell_type": "code",
   "execution_count": 89,
   "metadata": {},
   "outputs": [
    {
     "data": {
      "text/plain": [
       "'Odd'"
      ]
     },
     "execution_count": 89,
     "metadata": {},
     "output_type": "execute_result"
    }
   ],
   "source": [
    "def evenOrOdd(num):\n",
    "    return \"Not a valid\" if num == 0 else (\"Even\" if (num % 2 == 0) else \"Odd\")\n",
    "\n",
    "evenOrOdd(-3)"
   ]
  },
  {
   "cell_type": "markdown",
   "metadata": {},
   "source": [
    "# 10. 서울에서 김서방 찾기\n",
    "findKim 함수(메소드)는 String형 배열 seoul을 매개변수로 받습니다.\n",
    "seoul의 element중 “Kim”의 위치 x를 찾아, “김서방은 x에 있다”는 String을 반환하세요.\n",
    "seoul에 “Kim”은 오직 한 번만 나타나며 잘못된 값이 입력되는 경우는 없습니다."
   ]
  },
  {
   "cell_type": "code",
   "execution_count": 115,
   "metadata": {},
   "outputs": [
    {
     "data": {
      "text/plain": [
       "'김서방은 [2]에 있다'"
      ]
     },
     "execution_count": 115,
     "metadata": {},
     "output_type": "execute_result"
    }
   ],
   "source": [
    "def findkim(string):\n",
    "    result = [i for i,v in enumerate(string, start=1) if v == 'kim']\n",
    "    return f\"김서방은 {result}에 있다\"\n",
    "\n",
    "k = ['se', 'kim', 'a', 'pa']\n",
    "findkim(k)"
   ]
  },
  {
   "cell_type": "code",
   "execution_count": 116,
   "metadata": {},
   "outputs": [
    {
     "data": {
      "text/plain": [
       "'김서방은 2에 있다'"
      ]
     },
     "execution_count": 116,
     "metadata": {},
     "output_type": "execute_result"
    }
   ],
   "source": [
    "def findkim2(string):\n",
    "    Idxkim = string.index('kim')\n",
    "    return '김서방은 {}에 있다'.format(Idxkim+1)\n",
    "findkim2(k)"
   ]
  }
 ],
 "metadata": {
  "kernelspec": {
   "display_name": "Python 3",
   "language": "python",
   "name": "python3"
  },
  "language_info": {
   "codemirror_mode": {
    "name": "ipython",
    "version": 3
   },
   "file_extension": ".py",
   "mimetype": "text/x-python",
   "name": "python",
   "nbconvert_exporter": "python",
   "pygments_lexer": "ipython3",
   "version": "3.7.3"
  }
 },
 "nbformat": 4,
 "nbformat_minor": 2
}
