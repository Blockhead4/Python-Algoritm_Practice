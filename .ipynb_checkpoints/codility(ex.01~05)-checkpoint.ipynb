{
 "cells": [
  {
   "cell_type": "markdown",
   "metadata": {},
   "source": [
    "# 1. BinaryGap (시간복잡도 평가 추가)\n",
    "A binary gap within a positive integer N is any maximal sequence of consecutive zeros that is surrounded by ones at both ends in the binary representation of N.\n",
    "\n",
    "For example, number 9 has binary representation 1001 and contains a binary gap of length 2. The number 529 has binary representation 1000010001 and contains two binary gaps: one of length 4 and one of length 3. The number 20 has binary representation 10100 and contains one binary gap of length 1. The number 15 has binary representation 1111 and has no binary gaps.\n",
    "\n",
    "Write a function:\n",
    "\n",
    "def solution(N)\n",
    "\n",
    "**that, given a positive integer N, returns the length of its longest binary gap. The function should return 0 if N doesn’t contain a binary gap.\n",
    "\n",
    "For example, given N = 1041 the function should return 5, because N has binary representation 10000010001 and so its longest binary gap is of length 5.**\n",
    "\n",
    "Assume that:\n",
    "\n",
    "N is an integer within the range [1..2,147,483,647].\n",
    "\n",
    "Complexity:\n",
    "\n",
    "**expected worst-case time complexity is O(log(N));\n",
    "\n",
    "expected worst-case space complexity is O(1).**"
   ]
  },
  {
   "cell_type": "code",
   "execution_count": 1,
   "metadata": {},
   "outputs": [
    {
     "data": {
      "text/plain": [
       "5"
      ]
     },
     "execution_count": 1,
     "metadata": {},
     "output_type": "execute_result"
    }
   ],
   "source": [
    "def BinaryGap(n):\n",
    "    return len(max(format(n, 'b').strip('0').split('1')))\n",
    "\n",
    "n=1041\n",
    "BinaryGap(n)"
   ]
  },
  {
   "cell_type": "markdown",
   "metadata": {},
   "source": [
    "N 개의 정수로 구성된 비어 있지 않은 제로 색인 배열 A가 주어진다. 배열에는 홀수 개의 요소가 포함되어 있으며 배열의 각 요소는 동일한 값을 가진 다른 요소와 쌍을 이룰 수 있습니다 (단 하나의 요소는 쌍을 이루지 않음).\n",
    "\n",
    "예를 들어 다음과 같은 배열 A에서 :\n",
    "\n",
    "인덱스 0과 2의 원소들은 다음과 같이 나타낼 수있다 : A [0] = 9 A [1] = 3A [2] = 9 A [3] = 3A [4] = 9 A [5] = 7A [ 값 9 인 경우, 인덱스 1 W 3의 요소는 값 3을 가지며, 인덱스 4 W 6의 요소는 값 9를 가지며, 인덱스 5의 요소는 값 7을 가지며 페어되지 않습니다. 함수를 작성하십시오.\n",
    "\n",
    "디프 용액 (A)\n",
    "\n",
    "위의 조건을 충족하는 N 개의 정수로 구성된 배열 A가 주어진다면, 비평가 요소의 값을 반환합니다.\n",
    "\n",
    "예를 들어, 주어진 배열 A는 다음과 같습니다.\n",
    "\n",
    "A [0] = 9 A [1] = 3 A [2] = 9 A [3] = 3 A [4] = 9 A [5] = 7 A [6] = 9 설명대로 함수는 7을 반환해야합니다. 위의 예에서.\n",
    "\n",
    "가정하자면 :\n",
    "\n",
    "N은 [1..1,000,000] 범위 내의 홀수 정수입니다. 배열 A의 각 요소는 [1..1,000,000,000] 범위의 정수입니다. A의 값 중 하나를 제외하고 모두 짝수 번 발생합니다. 복잡성:\n",
    "\n",
    "기대 최악의 경우의 시간 복잡도는 O (N)이다. 예상 최악의 공간 복잡도는 O (1)이며,\n",
    "\n",
    "입력 저장소 이상 (입력 인수에 필요한 저장소를 계산하지 않음) 입력 배열의 요소를 수정할 수 있습니다."
   ]
  },
  {
   "cell_type": "code",
   "execution_count": 120,
   "metadata": {},
   "outputs": [
    {
     "data": {
      "text/plain": [
       "[7, 11]"
      ]
     },
     "execution_count": 120,
     "metadata": {},
     "output_type": "execute_result"
    }
   ],
   "source": [
    "def jwp(A):\n",
    "    odd_occur = []\n",
    "    while A:\n",
    "        x = A.pop(0)\n",
    "        odd_occur.remove(x) if x in odd_occur else odd_occur.append(x)\n",
    "    return odd_occur\n",
    "\n",
    "a = [3,5,3,7,5,11]\n",
    "jwp(a)"
   ]
  },
  {
   "cell_type": "code",
   "execution_count": 121,
   "metadata": {},
   "outputs": [
    {
     "data": {
      "text/plain": [
       "12"
      ]
     },
     "execution_count": 121,
     "metadata": {},
     "output_type": "execute_result"
    }
   ],
   "source": [
    "from functools import reduce\n",
    "\n",
    "def solution(A):\n",
    "    return reduce(lambda x,y: x^y, A)\n",
    "\n",
    "a = [3,5,3,7,5,11]\n",
    "solution(a)"
   ]
  },
  {
   "cell_type": "code",
   "execution_count": 124,
   "metadata": {},
   "outputs": [
    {
     "data": {
      "text/plain": [
       "2"
      ]
     },
     "execution_count": 124,
     "metadata": {},
     "output_type": "execute_result"
    }
   ],
   "source": [
    "4^6"
   ]
  },
  {
   "cell_type": "code",
   "execution_count": 127,
   "metadata": {},
   "outputs": [
    {
     "data": {
      "text/plain": [
       "'100'"
      ]
     },
     "execution_count": 127,
     "metadata": {},
     "output_type": "execute_result"
    }
   ],
   "source": [
    "format(4, 'b')"
   ]
  },
  {
   "cell_type": "code",
   "execution_count": 128,
   "metadata": {},
   "outputs": [
    {
     "data": {
      "text/plain": [
       "'110'"
      ]
     },
     "execution_count": 128,
     "metadata": {},
     "output_type": "execute_result"
    }
   ],
   "source": [
    "format(6, 'b')"
   ]
  },
  {
   "cell_type": "code",
   "execution_count": 130,
   "metadata": {},
   "outputs": [
    {
     "data": {
      "text/plain": [
       "'0b110'"
      ]
     },
     "execution_count": 130,
     "metadata": {},
     "output_type": "execute_result"
    }
   ],
   "source": [
    "010"
   ]
  },
  {
   "cell_type": "code",
   "execution_count": null,
   "metadata": {},
   "outputs": [],
   "source": []
  }
 ],
 "metadata": {
  "kernelspec": {
   "display_name": "Python 3",
   "language": "python",
   "name": "python3"
  },
  "language_info": {
   "codemirror_mode": {
    "name": "ipython",
    "version": 3
   },
   "file_extension": ".py",
   "mimetype": "text/x-python",
   "name": "python",
   "nbconvert_exporter": "python",
   "pygments_lexer": "ipython3",
   "version": "3.7.3"
  }
 },
 "nbformat": 4,
 "nbformat_minor": 2
}
