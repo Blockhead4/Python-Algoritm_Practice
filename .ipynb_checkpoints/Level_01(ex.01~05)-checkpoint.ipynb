{
 "cells": [
  {
   "cell_type": "markdown",
   "metadata": {},
   "source": [
    "# Level_01"
   ]
  },
  {
   "cell_type": "markdown",
   "metadata": {
    "collapsed": true
   },
   "source": [
    "# 1. 문자열 다루기 기본\n",
    "alpha_string46함수는 문자열 s를 매개변수로 입력받습니다. \n",
    "s의 길이가 4혹은 6이고, 숫자로만 구성되있는지 확인해주는 함수를 완성하세요. \n",
    "예를들어 s가 “a234”이면 False를 리턴하고 “1234”라면 True를 리턴하면 됩니다"
   ]
  },
  {
   "cell_type": "code",
   "execution_count": 40,
   "metadata": {},
   "outputs": [
    {
     "data": {
      "text/plain": [
       "False"
      ]
     },
     "execution_count": 40,
     "metadata": {},
     "output_type": "execute_result"
    }
   ],
   "source": [
    "import re\n",
    "\n",
    "def alpha_string46(s):\n",
    "    result = False\n",
    "    if (len(s) == 4 or len(s) == 6) and not re.findall(r'[A-Za-z]', s):\n",
    "        result = True\n",
    "    return result\n",
    "\n",
    "s = \"a12341\"\n",
    "alpha_string46(s)\n",
    "                                    "
   ]
  },
  {
   "cell_type": "markdown",
   "metadata": {},
   "source": [
    "# 2. 문자열 내 p와 y의 개수\n",
    "numPY함수는 대문자와 소문자가 섞여있는 문자열 s를 매개변수로 입력받습니다. \n",
    "s에 ‘p’의 개수와 ‘y’의 개수를 비교해 같으면 True, 다르면 False를 리턴하도록 함수를 완성하세요. \n",
    "‘p’, ‘y’ 모두 하나도 없는 경우는 항상 True를 리턴합니다. \n",
    "예를들어 s가 “pPoooyY”면 True를 리턴하고 “Pyy”라면 False를 리턴합니다."
   ]
  },
  {
   "cell_type": "code",
   "execution_count": 41,
   "metadata": {},
   "outputs": [
    {
     "data": {
      "text/plain": [
       "True"
      ]
     },
     "execution_count": 41,
     "metadata": {},
     "output_type": "execute_result"
    }
   ],
   "source": [
    "def numPY(s):\n",
    "    return True if s.lower().count('p') == s.lower().count('y') else False\n",
    "\n",
    "s = 'pPPyyYasd'\n",
    "numPY(s)"
   ]
  },
  {
   "cell_type": "markdown",
   "metadata": {
    "collapsed": true
   },
   "source": [
    "# 3. 삼각형 출력하기\n",
    "printTriangle 메소드는 양의 정수 num을 매개변수로 입력받습니다.\n",
    "다음을 참고해 *(별)로 높이가 num인 삼각형을 문자열로 리턴하는 printTriangle 메소드를 완성하세요.\n",
    "printTriangle이 return하는 String은 개행문자(‘\\n’)로 끝나야 합니다."
   ]
  },
  {
   "cell_type": "code",
   "execution_count": 131,
   "metadata": {},
   "outputs": [
    {
     "name": "stdout",
     "output_type": "stream",
     "text": [
      "*\n",
      "\n",
      "**\n",
      "\n",
      "***\n",
      "\n"
     ]
    }
   ],
   "source": [
    "def printTriangle(num):\n",
    "    [print('*' * (i+1) + '\\n') for i in range(num)]\n",
    "\n",
    "printTriangle(3)"
   ]
  },
  {
   "cell_type": "markdown",
   "metadata": {
    "collapsed": true
   },
   "source": [
    "# 3. 스트링을 숫자로 바꾸기\n",
    "strToInt 메소드는 String형 str을 매개변수로 받습니다. \n",
    "str을 숫자로 변환한 결과를 반환하도록 strToInt를 완성하세요.\n",
    "예를들어 str이 “1234”이면 1234를 반환하고, “-1234”이면 -1234를 반환하면 됩니다. \n",
    "str은 부호(+,-)와 숫자로만 구성되어 있고, 잘못된 값이 입력되는 경우는 없습니다."
   ]
  },
  {
   "cell_type": "code",
   "execution_count": 38,
   "metadata": {},
   "outputs": [
    {
     "data": {
      "text/plain": [
       "1234"
      ]
     },
     "execution_count": 38,
     "metadata": {},
     "output_type": "execute_result"
    }
   ],
   "source": [
    "def strToInt(string):\n",
    "    return int(string)\n",
    "\n",
    "s = '1234'\n",
    "strToInt(s)"
   ]
  },
  {
   "cell_type": "markdown",
   "metadata": {
    "collapsed": true
   },
   "source": [
    "# 4. 행렬의 덧셈\n",
    "행렬의 덧셈은 행과 열의 크기가 같은 두 행렬의 같은 행,같은 열의 값을 서로 더한 결과가 됩니다. \n",
    "2개의 행렬을 입력받는 sumMatrix 함수를 완성하여 행렬 덧셈의 결과를 반환해 주세요.\n",
    "예를 들어 2x2 행렬인 A = ((1, 2), (2, 3)), B = ((3, 4), (5, 6)) 가 주어지면, \n",
    "같은 2x2 행렬인 ((4, 6), (7, 9))를 반환하면 됩니다. (어떠한 행렬에도 대응하는 함수를 완성해주세요.)"
   ]
  },
  {
   "cell_type": "code",
   "execution_count": 57,
   "metadata": {},
   "outputs": [
    {
     "data": {
      "text/plain": [
       "matrix([[ 4,  6],\n",
       "        [ 8, 10],\n",
       "        [12, 14]])"
      ]
     },
     "execution_count": 57,
     "metadata": {},
     "output_type": "execute_result"
    }
   ],
   "source": [
    "import numpy as np\n",
    "def sumMatrix(A, B):\n",
    "    a = np.asmatrix(A)\n",
    "    b = np.asmatrix(B)\n",
    "    return a + b\n",
    "\n",
    "a = [[1,2], [3,4], [5,6]]\n",
    "b = [[3,4], [5,6], [7,8]]\n",
    "sumMatrix(a,b)"
   ]
  },
  {
   "cell_type": "code",
   "execution_count": 257,
   "metadata": {},
   "outputs": [
    {
     "data": {
      "text/plain": [
       "[[2, 3, 4], [4, 5, 6], [6, 7, 8]]"
      ]
     },
     "execution_count": 257,
     "metadata": {},
     "output_type": "execute_result"
    }
   ],
   "source": [
    "tmp = []\n",
    "for i, v in zip(a,b):\n",
    "    s = []\n",
    "    for x, y in zip(i, v):\n",
    "        s.append(x+y)\n",
    "    tmp.append(s)    \n",
    "\n",
    "def sumMatrix2(A, B):\n",
    "    result = [[x+y for x,y in zip(i,v)] for i,v in zip(A,B)]\n",
    "    return result\n",
    "\n",
    "a = [[1,2,3], [2,3,4], [4,5,6]]\n",
    "b = [[1,1,1], [2,2,2], [2,2,2]]\n",
    "\n",
    "c = [[1,2], [2,3], [4,5]]\n",
    "d = [[1,1], [2,2], [2,2]]\n",
    "\n",
    "sumMatrix2(a, b)"
   ]
  },
  {
   "cell_type": "markdown",
   "metadata": {
    "collapsed": true
   },
   "source": [
    "# 5. 핸드폰번호 가리기\n",
    "별이는 헬로월드텔레콤에서 고지서를 보내는 일을 하고 있습니다. \n",
    "개인정보 보호를 위해 고객들의 전화번호는 맨 뒷자리 4자리를 제외한 나머지를 \"*\"으로 바꿔야 합니다.\n",
    "전화번호를 문자열 s로 입력받는 hide_numbers함수를 완성해 별이를 도와주세요.\n",
    "예를들어 s가 \"01033334444\"면 \"*******4444\"를 리턴하고, \"027778888\"인 경우는 \"*****8888\"을 리턴하면 됩니다."
   ]
  },
  {
   "cell_type": "code",
   "execution_count": 275,
   "metadata": {},
   "outputs": [
    {
     "data": {
      "text/plain": [
       "'*******0190'"
      ]
     },
     "execution_count": 275,
     "metadata": {},
     "output_type": "execute_result"
    }
   ],
   "source": [
    "def hide_numbers(s):\n",
    "    return '*'*len(s[:-4]) + s[-4:]\n",
    "\n",
    "s = \"01020320190\"\n",
    "hide_numbers(s)"
   ]
  }
 ],
 "metadata": {
  "kernelspec": {
   "display_name": "Python 3",
   "language": "python",
   "name": "python3"
  },
  "language_info": {
   "codemirror_mode": {
    "name": "ipython",
    "version": 3
   },
   "file_extension": ".py",
   "mimetype": "text/x-python",
   "name": "python",
   "nbconvert_exporter": "python",
   "pygments_lexer": "ipython3",
   "version": "3.7.3"
  }
 },
 "nbformat": 4,
 "nbformat_minor": 2
}
