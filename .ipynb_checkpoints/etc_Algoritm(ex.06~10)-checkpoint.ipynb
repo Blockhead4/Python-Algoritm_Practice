{
 "cells": [
  {
   "cell_type": "markdown",
   "metadata": {},
   "source": [
    "# 6.leetcode 1. two sum\n",
    "Given an array of integers, return indices of the two numbers such that they add up to a specific target.\n",
    "\n",
    "You may assume that each input would have exactly one solution, and you may not use the same element twice.\n",
    "\n",
    "Example:\n",
    "Given nums = [2, 7, 11, 15], target = 9,\n",
    "\n",
    "Because nums[0] + nums[1] = 2 + 7 = 9,\n",
    "return [0, 1]."
   ]
  },
  {
   "cell_type": "code",
   "execution_count": null,
   "metadata": {},
   "outputs": [],
   "source": [
    "nums = [11, 7, 15, 2]\n",
    "target = 9"
   ]
  },
  {
   "cell_type": "code",
   "execution_count": 44,
   "metadata": {},
   "outputs": [],
   "source": [
    "def two_sum(nums, target):\n",
    "    for idx, num in enumerate(nums):\n",
    "        if target - num in nums:\n",
    "            return idx, nums.index(target-num)"
   ]
  },
  {
   "cell_type": "code",
   "execution_count": 45,
   "metadata": {},
   "outputs": [
    {
     "data": {
      "text/plain": [
       "(1, 3)"
      ]
     },
     "execution_count": 45,
     "metadata": {},
     "output_type": "execute_result"
    }
   ],
   "source": [
    "two_sum(nums, target)"
   ]
  },
  {
   "cell_type": "code",
   "execution_count": 46,
   "metadata": {},
   "outputs": [],
   "source": [
    "def two_sum2(nums,target):\n",
    "    dic = {}\n",
    "    i = 0\n",
    "    for num in nums:\n",
    "        if target - num in dic:\n",
    "            return dic[target-num], i\n",
    "        dic[num] = i\n",
    "        i += 1"
   ]
  },
  {
   "cell_type": "code",
   "execution_count": 47,
   "metadata": {},
   "outputs": [
    {
     "data": {
      "text/plain": [
       "(1, 3)"
      ]
     },
     "execution_count": 47,
     "metadata": {},
     "output_type": "execute_result"
    }
   ],
   "source": [
    "two_sum2(nums, target)"
   ]
  },
  {
   "cell_type": "markdown",
   "metadata": {},
   "source": [
    "# 7. leetcode 461. Hamming Distance\n",
    "The Hamming distance between two integers is the number of positions at which the corresponding bits are different.\n",
    "\n",
    "Given two integers x and y, calculate the Hamming distance.\n",
    "\n",
    "Note:\n",
    "0 ≤ x, y < 2**31.\n",
    "\n",
    "Example:\n",
    "\n",
    "Input: x = 1, y = 4\n",
    "\n",
    "Output: 2\n",
    "\n",
    "Explanation:\n",
    "1   (0 0 0 1)\n",
    "4   (0 1 0 0)\n",
    "       ↑   ↑\n",
    "\n",
    "The above arrows point to positions where the corresponding bits are different."
   ]
  },
  {
   "cell_type": "code",
   "execution_count": 93,
   "metadata": {},
   "outputs": [],
   "source": [
    "x = 1\n",
    "y = 4"
   ]
  },
  {
   "cell_type": "code",
   "execution_count": 96,
   "metadata": {},
   "outputs": [],
   "source": [
    "def Hamming_distance(x, y):\n",
    "    return sum(map(int, format(x^y, 'b')))"
   ]
  },
  {
   "cell_type": "code",
   "execution_count": 97,
   "metadata": {},
   "outputs": [
    {
     "data": {
      "text/plain": [
       "2"
      ]
     },
     "execution_count": 97,
     "metadata": {},
     "output_type": "execute_result"
    }
   ],
   "source": [
    "Hamming_distance(x, y)"
   ]
  },
  {
   "cell_type": "markdown",
   "metadata": {},
   "source": [
    "# 8. leetcode 657. Judge Route Circle\n",
    "Initially, there is a Robot at position (0, 0). Given a sequence of its moves, judge if this robot makes a circle, which means it moves back to the original place.\n",
    "\n",
    "The move sequence is represented by a string. And each move is represent by a character. The valid robot moves are R (Right), L (Left), U (Up) and D (down). The output should be true or false representing whether the robot makes a circle.\n",
    "\n",
    "Example 1:\n",
    "\n",
    "Input: \"UD\"\n",
    "Output: true\n",
    "\n",
    "Example 2:\n",
    "\n",
    "Input: \"LL\"\n",
    "Output: false"
   ]
  },
  {
   "cell_type": "code",
   "execution_count": 220,
   "metadata": {},
   "outputs": [],
   "source": [
    "def judge_circle(moves):\n",
    "    r = ord('R')\n",
    "    u = ord('U')\n",
    "    l = -r\n",
    "    d = -u\n",
    "    result = 0\n",
    "    for i in moves.lower():\n",
    "        result += eval(i)\n",
    "    if result:\n",
    "        return False\n",
    "    return True"
   ]
  },
  {
   "cell_type": "code",
   "execution_count": 223,
   "metadata": {},
   "outputs": [
    {
     "data": {
      "text/plain": [
       "True"
      ]
     },
     "execution_count": 223,
     "metadata": {},
     "output_type": "execute_result"
    }
   ],
   "source": [
    "judge_circle('urdl')"
   ]
  },
  {
   "cell_type": "code",
   "execution_count": 225,
   "metadata": {},
   "outputs": [],
   "source": [
    "def judge_circle2(moves):\n",
    "    return moves.lower().count(\"u\")==moves.lower().count(\"d\") and moves.lower().count(\"l\")==moves.lower().count(\"r\")"
   ]
  },
  {
   "cell_type": "code",
   "execution_count": 231,
   "metadata": {},
   "outputs": [
    {
     "data": {
      "text/plain": [
       "True"
      ]
     },
     "execution_count": 231,
     "metadata": {},
     "output_type": "execute_result"
    }
   ],
   "source": [
    "judge_circle2('urdllr')"
   ]
  },
  {
   "cell_type": "markdown",
   "metadata": {},
   "source": [
    "# 9. hackerrank - Finding the percentage\n",
    "You have a record of  students. Each record contains the student's name, and their percent marks in Maths, Physics and Chemistry. The marks can be floating values. The user enters some integer  followed by the names and marks for  students. You are required to save the record in a dictionary data type. The user then enters a student's name. Output the average percentage marks obtained by that student, correct to two decimal places.\n",
    "\n",
    "Input Format\n",
    "\n",
    "The first line contains the integer , the number of students. The next  lines contains the name and marks obtained by that student separated by a space. The final line contains the name of a particular student previously listed.\n",
    "\n",
    "Constraints\n",
    "\n",
    "Output Format\n",
    "\n",
    "Print one line: The average of the marks obtained by the particular student correct to 2 decimal places.\n",
    "\n",
    "Sample Input\n",
    "\n",
    "3\n",
    "Krishna 67 68 69\n",
    "Arjun 70 98 63\n",
    "Malika 52 56 60\n",
    "Malika\n",
    "Sample Output\n",
    "\n",
    "56.00"
   ]
  },
  {
   "cell_type": "code",
   "execution_count": 121,
   "metadata": {},
   "outputs": [],
   "source": [
    "def finding_percentage():\n",
    "    \n",
    "    st_ls = []\n",
    "    i = 0\n",
    "    add_info = 'y'\n",
    "\n",
    "    while add_info == 'y':\n",
    "        name = str(input('학생 이름 : '))\n",
    "        maths = int(input('수학 점수 : '))\n",
    "        physics = int(input('물리 점수 : '))\n",
    "        chemistry = int(input('화학 점수 : '))\n",
    "        st_ls.append([name, maths, physics, chemistry])\n",
    "        i += 1\n",
    "        add_info = str(input('추가 입력? (y/n) : '))\n",
    "    \n",
    "    name = str(input('검색할 학생명 : '))\n",
    "    for i in  range(len(st_ls)):\n",
    "        if st_ls[i][0] == '신은총':\n",
    "            avg_sc = sum(st_ls[i][1:])/3\n",
    "\n",
    "    print(len(st_ls), st_ls, name, 'Sample Output', avg_sc)"
   ]
  },
  {
   "cell_type": "code",
   "execution_count": 122,
   "metadata": {},
   "outputs": [
    {
     "name": "stdout",
     "output_type": "stream",
     "text": [
      "학생 이름 : 신은총\n",
      "수학 점수 : 10\n",
      "물리 점수 : 20\n",
      "화학 점수 : 03\n",
      "추가 입력? (y/n) : y\n",
      "학생 이름 : 박진원\n",
      "수학 점수 : 100\n",
      "물리 점수 : 100\n",
      "화학 점수 : 100\n",
      "추가 입력? (y/n) : y\n",
      "학생 이름 : 워리\n",
      "수학 점수 : 10\n",
      "물리 점수 : 40\n",
      "화학 점수 : 50\n",
      "추가 입력? (y/n) : n\n",
      "검색할 학생명 : 워리\n",
      "3 [['신은총', 10, 20, 3], ['박진원', 100, 100, 100], ['워리', 10, 40, 50]] 워리 Sample Output 11.0\n"
     ]
    }
   ],
   "source": [
    "finding_percentage()"
   ]
  },
  {
   "cell_type": "code",
   "execution_count": null,
   "metadata": {},
   "outputs": [],
   "source": []
  }
 ],
 "metadata": {
  "kernelspec": {
   "display_name": "Python 3",
   "language": "python",
   "name": "python3"
  },
  "language_info": {
   "codemirror_mode": {
    "name": "ipython",
    "version": 3
   },
   "file_extension": ".py",
   "mimetype": "text/x-python",
   "name": "python",
   "nbconvert_exporter": "python",
   "pygments_lexer": "ipython3",
   "version": "3.7.3"
  }
 },
 "nbformat": 4,
 "nbformat_minor": 2
}
