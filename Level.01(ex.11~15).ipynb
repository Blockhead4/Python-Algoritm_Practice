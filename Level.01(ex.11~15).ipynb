{
 "cells": [
  {
   "cell_type": "markdown",
   "metadata": {},
   "source": [
    "# 11. 정수제곱근판별하기\n",
    "nextSqaure함수는 정수 n을 매개변수로 입력받습니다.\n",
    "n이 임의의 정수 x의 제곱이라면 x+1의 제곱을 리턴하고, \n",
    "n이 임의의 정수 x의 제곱이 아니라면 ‘no’을 리턴하는 함수를 완성하세요. \n",
    "예를들어 n이 121이라면 이는 정수 11의 제곱이므로 (11+1)의 제곱인 144를 리턴하고,\n",
    "3이라면 ‘no’을 리턴하면 됩니다."
   ]
  },
  {
   "cell_type": "code",
   "execution_count": 8,
   "metadata": {},
   "outputs": [
    {
     "name": "stdout",
     "output_type": "stream",
     "text": [
      "16.0\n"
     ]
    }
   ],
   "source": [
    "def nextSquare(n):\n",
    "    return (n**0.5+1)**2 if n**0.5 % 1 == 0 else 'no'\n",
    "    \n",
    "print(nextSquare(9))"
   ]
  },
  {
   "cell_type": "markdown",
   "metadata": {},
   "source": [
    "# 12. 최대공약수와 최소공배수 - gcd\n",
    "두 수를 입력받아 두 수의 최대공약수와 최소공배수를 반환해주는 gcdlcm 함수를 완성해 보세요. 배열의 맨 앞에 최대공약수, 그 다음 최소공배수를 넣어 반환하면 됩니다. 예를 들어 gcdlcm(3,12) 가 입력되면, [3, 12]를 반환해주면 됩니다."
   ]
  },
  {
   "cell_type": "code",
   "execution_count": 13,
   "metadata": {},
   "outputs": [
    {
     "data": {
      "text/plain": [
       "8"
      ]
     },
     "execution_count": 13,
     "metadata": {},
     "output_type": "execute_result"
    }
   ],
   "source": [
    "def gcdlcm(a, b):\n",
    "    if a < b:\n",
    "        a, b = b, a\n",
    "    if a % b != 0:\n",
    "        c = a % b\n",
    "        while c:\n",
    "            c , b = b % c, c   \n",
    "    return(b)\n",
    "a, b = 24, 40\n",
    "gcdlcm(a, b)"
   ]
  },
  {
   "cell_type": "code",
   "execution_count": 14,
   "metadata": {},
   "outputs": [
    {
     "ename": "SyntaxError",
     "evalue": "invalid syntax (<ipython-input-14-6fd82978be60>, line 6)",
     "output_type": "error",
     "traceback": [
      "\u001b[1;36m  File \u001b[1;32m\"<ipython-input-14-6fd82978be60>\"\u001b[1;36m, line \u001b[1;32m6\u001b[0m\n\u001b[1;33m    gcdlcm2(a, b)\u001b[0m\n\u001b[1;37m          ^\u001b[0m\n\u001b[1;31mSyntaxError\u001b[0m\u001b[1;31m:\u001b[0m invalid syntax\n"
     ]
    }
   ],
   "source": [
    "def gcdlcm2(a, b):\n",
    "    big, small = max(a,b), min(a,b)\n",
    "    while small > 0:\n",
    "        big, small = small, big % small\n",
    "    return [big, int((a*b)/big)]\n",
    "gcdlcm2(a, b)"
   ]
  },
  {
   "cell_type": "code",
   "execution_count": null,
   "metadata": {},
   "outputs": [],
   "source": []
  }
 ],
 "metadata": {
  "kernelspec": {
   "display_name": "Python 3",
   "language": "python",
   "name": "python3"
  },
  "language_info": {
   "codemirror_mode": {
    "name": "ipython",
    "version": 3
   },
   "file_extension": ".py",
   "mimetype": "text/x-python",
   "name": "python",
   "nbconvert_exporter": "python",
   "pygments_lexer": "ipython3",
   "version": "3.7.3"
  }
 },
 "nbformat": 4,
 "nbformat_minor": 2
}
